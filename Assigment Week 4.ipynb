{
 "cells": [
  {
   "cell_type": "code",
   "execution_count": 17,
   "metadata": {},
   "outputs": [
    {
     "name": "stdout",
     "output_type": "stream",
     "text": [
      "[34, 5, 6, 21, 89]\n"
     ]
    }
   ],
   "source": [
    "#1. Write a program (function!) that takes a list and returns a new list that contains all the \n",
    "#elements of the first list minus all the duplicates. \n",
    "\n",
    "first_list = [34, 34, 5, 6, 21, 34, 5, 89, 21, 34]\n",
    "alist = list(dict.fromkeys(first_list))\n",
    "print(alist)\n",
    "    \n"
   ]
  },
  {
   "cell_type": "code",
   "execution_count": 18,
   "metadata": {},
   "outputs": [
    {
     "name": "stdout",
     "output_type": "stream",
     "text": [
      "False\n",
      "True\n",
      "False\n",
      "True\n"
     ]
    }
   ],
   "source": [
    "#2. Write a function that takes an ordered list of numbers (a list where the elements are in \n",
    "#order from smallest to largest) and another number. The function decides whether or not the given number is inside the list and returns (then prints) an appropriate boolean. \n",
    "def find(ordered_list, element_to_find):\n",
    "  for element in ordered_list:\n",
    "    if element == element_to_find:\n",
    "      return True\n",
    "  return False\n",
    "  \n",
    "if __name__==\"__main__\":\n",
    "  l = [2, 4, 6, 8, 10]\n",
    "  print(find(l, 5)) # prints False\n",
    "  print(find(l, 10)) # prints True\n",
    "  print(find(l, -1)) # prints False\n",
    "  print(find(l, 2)) # prints True\n",
    "\n",
    "\n",
    "\n"
   ]
  },
  {
   "cell_type": "code",
   "execution_count": 19,
   "metadata": {},
   "outputs": [
    {
     "name": "stdout",
     "output_type": "stream",
     "text": [
      "[4, 16, 36, 64, 100]\n"
     ]
    }
   ],
   "source": [
    "#3. Let’s say I give you a list saved in a variable: a = [1, 4, 9, 16, 25, 36, 49, 64, 81, 100]. \n",
    "#Write one line of Python that takes this list and makes a new list that has only the even elements of this list in it.\n",
    " \n",
    "a = [1, 4, 9, 16, 25, 36, 49, 64, 81, 100]\n",
    "b = [i for i in a if i % 2 == 0]\n",
    "print(b)"
   ]
  },
  {
   "cell_type": "code",
   "execution_count": null,
   "metadata": {},
   "outputs": [],
   "source": [
    "#Advance\n",
    "#1. The function picks a number between 0 and 200. Then you should input different values until you guess the hidden number correctly. The function would return “way upper”, “upper”, “lower”, “way lower”, “close”, ”bigo”. It’s your choice to pick the ranges you want to use for responses. The success measure is how intuitive the communication is between the user and the function. \n",
    "import random\n",
    "lowBound = 0\n",
    "highBound = 200\n",
    "randomNumber = random.randint(lowBound,highBound)\n",
    "print (\"Please type: 1 for my try is too high\")\n",
    "print (\"             2 for my try is too low\")\n",
    "print (\"             3 I guessed your number\")\n",
    "print (\"Is number in your mind is: \", randomNumber, \" ?\")\n",
    "response = input()\n",
    "while response != \"You got it!\":\n",
    "   if response == \"2\":\n",
    "       lowBound = randomNumber\n",
    "       randomNumber = random.randint (lowBound, highBound)\n",
    "       print (\"Is it \", randomNumber, \" ?\")\n",
    "       response = input()\n",
    "   elif response == \"1\":\n",
    "       highBound = randomNumber\n",
    "       randomNumber = random.randint (lowBound, highBound)\n",
    "       print (\"Is it \", randomNumber, \" ?\")\n",
    "       response = input()\n",
    "   if response == \"3\":\n",
    "       print (\"Woohooo, i guessed the number in your mind'\")\n",
    "       break\n",
    "\n",
    "\n",
    "\n",
    "\n"
   ]
  },
  {
   "cell_type": "code",
   "execution_count": null,
   "metadata": {},
   "outputs": [],
   "source": []
  }
 ],
 "metadata": {
  "kernelspec": {
   "display_name": "Python 3",
   "language": "python",
   "name": "python3"
  },
  "language_info": {
   "codemirror_mode": {
    "name": "ipython",
    "version": 3
   },
   "file_extension": ".py",
   "mimetype": "text/x-python",
   "name": "python",
   "nbconvert_exporter": "python",
   "pygments_lexer": "ipython3",
   "version": "3.7.3"
  }
 },
 "nbformat": 4,
 "nbformat_minor": 2
}
